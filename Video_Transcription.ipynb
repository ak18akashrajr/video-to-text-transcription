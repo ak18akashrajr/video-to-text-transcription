{
  "nbformat": 4,
  "nbformat_minor": 0,
  "metadata": {
    "colab": {
      "provenance": [],
      "include_colab_link": true
    },
    "kernelspec": {
      "name": "python3",
      "display_name": "Python 3"
    },
    "language_info": {
      "name": "python"
    }
  },
  "cells": [
    {
      "cell_type": "markdown",
      "metadata": {
        "id": "view-in-github",
        "colab_type": "text"
      },
      "source": [
        "<a href=\"https://colab.research.google.com/github/ak18akashrajr/video-to-text-transcription/blob/main/Video_Transcription.ipynb\" target=\"_parent\"><img src=\"https://colab.research.google.com/assets/colab-badge.svg\" alt=\"Open In Colab\"/></a>"
      ]
    },
    {
      "cell_type": "code",
      "source": [
        "import warnings\n",
        "warnings.filterwarnings(\"ignore\", category=SyntaxWarning)\n"
      ],
      "metadata": {
        "id": "Hd7TuBhZc6m-"
      },
      "execution_count": null,
      "outputs": []
    },
    {
      "cell_type": "code",
      "execution_count": null,
      "metadata": {
        "colab": {
          "base_uri": "https://localhost:8080/"
        },
        "id": "OgvWLe79bczG",
        "outputId": "37884259-4a8a-4681-9194-2042e2831d27"
      },
      "outputs": [
        {
          "output_type": "stream",
          "name": "stdout",
          "text": [
            "Requirement already satisfied: moviepy in /usr/local/lib/python3.10/dist-packages (1.0.3)\n",
            "Requirement already satisfied: speechrecognition in /usr/local/lib/python3.10/dist-packages (3.11.0)\n",
            "Requirement already satisfied: pytube in /usr/local/lib/python3.10/dist-packages (15.0.0)\n",
            "Requirement already satisfied: decorator<5.0,>=4.0.2 in /usr/local/lib/python3.10/dist-packages (from moviepy) (4.4.2)\n",
            "Requirement already satisfied: imageio<3.0,>=2.5 in /usr/local/lib/python3.10/dist-packages (from moviepy) (2.36.0)\n",
            "Requirement already satisfied: imageio_ffmpeg>=0.2.0 in /usr/local/lib/python3.10/dist-packages (from moviepy) (0.5.1)\n",
            "Requirement already satisfied: tqdm<5.0,>=4.11.2 in /usr/local/lib/python3.10/dist-packages (from moviepy) (4.66.6)\n",
            "Requirement already satisfied: numpy>=1.17.3 in /usr/local/lib/python3.10/dist-packages (from moviepy) (1.26.4)\n",
            "Requirement already satisfied: requests<3.0,>=2.8.1 in /usr/local/lib/python3.10/dist-packages (from moviepy) (2.32.3)\n",
            "Requirement already satisfied: proglog<=1.0.0 in /usr/local/lib/python3.10/dist-packages (from moviepy) (0.1.10)\n",
            "Requirement already satisfied: typing-extensions in /usr/local/lib/python3.10/dist-packages (from speechrecognition) (4.12.2)\n",
            "Requirement already satisfied: pillow>=8.3.2 in /usr/local/lib/python3.10/dist-packages (from imageio<3.0,>=2.5->moviepy) (11.0.0)\n",
            "Requirement already satisfied: setuptools in /usr/local/lib/python3.10/dist-packages (from imageio_ffmpeg>=0.2.0->moviepy) (75.1.0)\n",
            "Requirement already satisfied: charset-normalizer<4,>=2 in /usr/local/lib/python3.10/dist-packages (from requests<3.0,>=2.8.1->moviepy) (3.4.0)\n",
            "Requirement already satisfied: idna<4,>=2.5 in /usr/local/lib/python3.10/dist-packages (from requests<3.0,>=2.8.1->moviepy) (3.10)\n",
            "Requirement already satisfied: urllib3<3,>=1.21.1 in /usr/local/lib/python3.10/dist-packages (from requests<3.0,>=2.8.1->moviepy) (2.2.3)\n",
            "Requirement already satisfied: certifi>=2017.4.17 in /usr/local/lib/python3.10/dist-packages (from requests<3.0,>=2.8.1->moviepy) (2024.8.30)\n"
          ]
        }
      ],
      "source": [
        "pip install moviepy speechrecognition pytube\n"
      ]
    },
    {
      "cell_type": "code",
      "source": [
        "pip install yt-dlp\n"
      ],
      "metadata": {
        "colab": {
          "base_uri": "https://localhost:8080/"
        },
        "id": "1MD1Hr4lbq96",
        "outputId": "46dea9e7-6b99-4a94-a189-50977cb53f06"
      },
      "execution_count": null,
      "outputs": [
        {
          "output_type": "stream",
          "name": "stdout",
          "text": [
            "Requirement already satisfied: yt-dlp in /usr/local/lib/python3.10/dist-packages (2024.11.18)\n"
          ]
        }
      ]
    },
    {
      "cell_type": "code",
      "source": [
        "import os\n",
        "import moviepy.editor as mp\n",
        "import speech_recognition as sr\n",
        "import subprocess\n",
        "\n",
        "def download_youtube_video(youtube_url, output_file):\n",
        "    \"\"\"\n",
        "    Download a YouTube video using yt-dlp.\n",
        "    \"\"\"\n",
        "    try:\n",
        "        print(\"Downloading video from YouTube...\")\n",
        "        command = [\n",
        "            \"yt-dlp\",\n",
        "            youtube_url,\n",
        "            \"-f\", \"mp4\",\n",
        "            \"-o\", output_file\n",
        "        ]\n",
        "        subprocess.run(command, check=True)\n",
        "    except Exception as e:\n",
        "        raise RuntimeError(f\"Failed to download video: {e}\")\n",
        "\n",
        "def youtube_video_to_text(youtube_url, output_text_file):\n",
        "    try:\n",
        "        # Step 1: Download the YouTube video\n",
        "        video_file = \"downloaded_video.mp4\"\n",
        "        download_youtube_video(youtube_url, video_file)\n",
        "\n",
        "        # Step 2: Extract audio from the video\n",
        "        print(\"Extracting audio from the video...\")\n",
        "        video = mp.VideoFileClip(video_file)\n",
        "        audio_file = \"temp_audio.wav\"\n",
        "        video.audio.write_audiofile(audio_file)\n",
        "\n",
        "        # Step 3: Transcribe audio to text\n",
        "        print(\"Transcribing audio to text...\")\n",
        "        recognizer = sr.Recognizer()\n",
        "        with sr.AudioFile(audio_file) as source:\n",
        "            audio_data = recognizer.record(source)\n",
        "            text = recognizer.recognize_google(audio_data)\n",
        "\n",
        "        # Step 4: Save the transcribed text to a file\n",
        "        with open(output_text_file, \"w\") as text_file:\n",
        "            text_file.write(text)\n",
        "\n",
        "        print(f\"Transcription completed! Text saved to {output_text_file}\")\n",
        "\n",
        "    except Exception as e:\n",
        "        print(f\"Error: {e}\")\n",
        "\n",
        "    finally:\n",
        "        # Cleanup temporary files\n",
        "        if os.path.exists(video_file):\n",
        "            os.remove(video_file)\n",
        "        if os.path.exists(audio_file):\n",
        "            os.remove(audio_file)\n",
        "\n",
        "# Example usage\n",
        "youtube_url = \"https://www.youtube.com/watch?v=5p1V_eVrVW0\"  # Replace with your YouTube video URL\n",
        "output_text_file_path = \"transcribed_text.txt\"  # Replace with your desired output text file path\n",
        "\n",
        "youtube_video_to_text(youtube_url, output_text_file_path)\n"
      ],
      "metadata": {
        "colab": {
          "base_uri": "https://localhost:8080/"
        },
        "id": "E81XrHY9cyUk",
        "outputId": "9b70fb66-6868-4a78-94b6-f85346862e00"
      },
      "execution_count": null,
      "outputs": [
        {
          "output_type": "stream",
          "name": "stdout",
          "text": [
            "Downloading video from YouTube...\n",
            "Extracting audio from the video...\n",
            "MoviePy - Writing audio in temp_audio.wav\n"
          ]
        },
        {
          "output_type": "stream",
          "name": "stderr",
          "text": []
        },
        {
          "output_type": "stream",
          "name": "stdout",
          "text": [
            "MoviePy - Done.\n",
            "Transcribing audio to text...\n",
            "Transcription completed! Text saved to transcribed_text.txt\n"
          ]
        }
      ]
    }
  ]
}